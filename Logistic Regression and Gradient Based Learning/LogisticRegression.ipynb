{
 "cells": [
  {
   "cell_type": "code",
   "execution_count": 44,
   "metadata": {},
   "outputs": [],
   "source": [
    "import numpy as np\n",
    "import pandas as pd\n",
    "import matplotlib.pyplot as plt"
   ]
  },
  {
   "cell_type": "code",
   "execution_count": 45,
   "metadata": {},
   "outputs": [
    {
     "data": {
      "text/html": [
       "<div>\n",
       "<style scoped>\n",
       "    .dataframe tbody tr th:only-of-type {\n",
       "        vertical-align: middle;\n",
       "    }\n",
       "\n",
       "    .dataframe tbody tr th {\n",
       "        vertical-align: top;\n",
       "    }\n",
       "\n",
       "    .dataframe thead th {\n",
       "        text-align: right;\n",
       "    }\n",
       "</style>\n",
       "<table border=\"1\" class=\"dataframe\">\n",
       "  <thead>\n",
       "    <tr style=\"text-align: right;\">\n",
       "      <th></th>\n",
       "      <th>0</th>\n",
       "      <th>1</th>\n",
       "      <th>2</th>\n",
       "      <th>3</th>\n",
       "      <th>4</th>\n",
       "      <th>5</th>\n",
       "      <th>6</th>\n",
       "      <th>7</th>\n",
       "      <th>8</th>\n",
       "      <th>9</th>\n",
       "      <th>...</th>\n",
       "      <th>48</th>\n",
       "      <th>49</th>\n",
       "      <th>50</th>\n",
       "      <th>51</th>\n",
       "      <th>52</th>\n",
       "      <th>53</th>\n",
       "      <th>54</th>\n",
       "      <th>55</th>\n",
       "      <th>56</th>\n",
       "      <th>57</th>\n",
       "    </tr>\n",
       "  </thead>\n",
       "  <tbody>\n",
       "    <tr>\n",
       "      <th>0</th>\n",
       "      <td>0.00</td>\n",
       "      <td>0.64</td>\n",
       "      <td>0.64</td>\n",
       "      <td>0.0</td>\n",
       "      <td>0.32</td>\n",
       "      <td>0.00</td>\n",
       "      <td>0.00</td>\n",
       "      <td>0.00</td>\n",
       "      <td>0.00</td>\n",
       "      <td>0.00</td>\n",
       "      <td>...</td>\n",
       "      <td>0.00</td>\n",
       "      <td>0.000</td>\n",
       "      <td>0.0</td>\n",
       "      <td>0.778</td>\n",
       "      <td>0.000</td>\n",
       "      <td>0.000</td>\n",
       "      <td>3.756</td>\n",
       "      <td>61</td>\n",
       "      <td>278</td>\n",
       "      <td>1</td>\n",
       "    </tr>\n",
       "    <tr>\n",
       "      <th>1</th>\n",
       "      <td>0.21</td>\n",
       "      <td>0.28</td>\n",
       "      <td>0.50</td>\n",
       "      <td>0.0</td>\n",
       "      <td>0.14</td>\n",
       "      <td>0.28</td>\n",
       "      <td>0.21</td>\n",
       "      <td>0.07</td>\n",
       "      <td>0.00</td>\n",
       "      <td>0.94</td>\n",
       "      <td>...</td>\n",
       "      <td>0.00</td>\n",
       "      <td>0.132</td>\n",
       "      <td>0.0</td>\n",
       "      <td>0.372</td>\n",
       "      <td>0.180</td>\n",
       "      <td>0.048</td>\n",
       "      <td>5.114</td>\n",
       "      <td>101</td>\n",
       "      <td>1028</td>\n",
       "      <td>1</td>\n",
       "    </tr>\n",
       "    <tr>\n",
       "      <th>2</th>\n",
       "      <td>0.06</td>\n",
       "      <td>0.00</td>\n",
       "      <td>0.71</td>\n",
       "      <td>0.0</td>\n",
       "      <td>1.23</td>\n",
       "      <td>0.19</td>\n",
       "      <td>0.19</td>\n",
       "      <td>0.12</td>\n",
       "      <td>0.64</td>\n",
       "      <td>0.25</td>\n",
       "      <td>...</td>\n",
       "      <td>0.01</td>\n",
       "      <td>0.143</td>\n",
       "      <td>0.0</td>\n",
       "      <td>0.276</td>\n",
       "      <td>0.184</td>\n",
       "      <td>0.010</td>\n",
       "      <td>9.821</td>\n",
       "      <td>485</td>\n",
       "      <td>2259</td>\n",
       "      <td>1</td>\n",
       "    </tr>\n",
       "    <tr>\n",
       "      <th>3</th>\n",
       "      <td>0.00</td>\n",
       "      <td>0.00</td>\n",
       "      <td>0.00</td>\n",
       "      <td>0.0</td>\n",
       "      <td>0.63</td>\n",
       "      <td>0.00</td>\n",
       "      <td>0.31</td>\n",
       "      <td>0.63</td>\n",
       "      <td>0.31</td>\n",
       "      <td>0.63</td>\n",
       "      <td>...</td>\n",
       "      <td>0.00</td>\n",
       "      <td>0.137</td>\n",
       "      <td>0.0</td>\n",
       "      <td>0.137</td>\n",
       "      <td>0.000</td>\n",
       "      <td>0.000</td>\n",
       "      <td>3.537</td>\n",
       "      <td>40</td>\n",
       "      <td>191</td>\n",
       "      <td>1</td>\n",
       "    </tr>\n",
       "    <tr>\n",
       "      <th>4</th>\n",
       "      <td>0.00</td>\n",
       "      <td>0.00</td>\n",
       "      <td>0.00</td>\n",
       "      <td>0.0</td>\n",
       "      <td>0.63</td>\n",
       "      <td>0.00</td>\n",
       "      <td>0.31</td>\n",
       "      <td>0.63</td>\n",
       "      <td>0.31</td>\n",
       "      <td>0.63</td>\n",
       "      <td>...</td>\n",
       "      <td>0.00</td>\n",
       "      <td>0.135</td>\n",
       "      <td>0.0</td>\n",
       "      <td>0.135</td>\n",
       "      <td>0.000</td>\n",
       "      <td>0.000</td>\n",
       "      <td>3.537</td>\n",
       "      <td>40</td>\n",
       "      <td>191</td>\n",
       "      <td>1</td>\n",
       "    </tr>\n",
       "  </tbody>\n",
       "</table>\n",
       "<p>5 rows × 58 columns</p>\n",
       "</div>"
      ],
      "text/plain": [
       "     0     1     2    3     4     5     6     7     8     9   ...    48  \\\n",
       "0  0.00  0.64  0.64  0.0  0.32  0.00  0.00  0.00  0.00  0.00  ...  0.00   \n",
       "1  0.21  0.28  0.50  0.0  0.14  0.28  0.21  0.07  0.00  0.94  ...  0.00   \n",
       "2  0.06  0.00  0.71  0.0  1.23  0.19  0.19  0.12  0.64  0.25  ...  0.01   \n",
       "3  0.00  0.00  0.00  0.0  0.63  0.00  0.31  0.63  0.31  0.63  ...  0.00   \n",
       "4  0.00  0.00  0.00  0.0  0.63  0.00  0.31  0.63  0.31  0.63  ...  0.00   \n",
       "\n",
       "      49   50     51     52     53     54   55    56  57  \n",
       "0  0.000  0.0  0.778  0.000  0.000  3.756   61   278   1  \n",
       "1  0.132  0.0  0.372  0.180  0.048  5.114  101  1028   1  \n",
       "2  0.143  0.0  0.276  0.184  0.010  9.821  485  2259   1  \n",
       "3  0.137  0.0  0.137  0.000  0.000  3.537   40   191   1  \n",
       "4  0.135  0.0  0.135  0.000  0.000  3.537   40   191   1  \n",
       "\n",
       "[5 rows x 58 columns]"
      ]
     },
     "execution_count": 45,
     "metadata": {},
     "output_type": "execute_result"
    }
   ],
   "source": [
    "# read in data, last column is target 1: is spam, 0: is not spam\n",
    "\n",
    "df = pd.read_csv('spambase.data', header=None)\n",
    "df.head()"
   ]
  },
  {
   "cell_type": "code",
   "execution_count": 46,
   "metadata": {},
   "outputs": [
    {
     "data": {
      "text/plain": [
       "(4601, 58)"
      ]
     },
     "execution_count": 46,
     "metadata": {},
     "output_type": "execute_result"
    }
   ],
   "source": [
    "df.shape"
   ]
  },
  {
   "cell_type": "code",
   "execution_count": 50,
   "metadata": {},
   "outputs": [],
   "source": [
    "# randomize data, split into training and validation\n",
    "\n",
    "data_np = df.to_numpy()\n",
    "np.random.seed(0)\n",
    "np.random.shuffle(data_np)\n",
    "\n",
    "trainSplit = int(np.ceil(len(data_np) * (2/3)))\n",
    "training, validation = data_np[:trainSplit], data_np[trainSplit:]\n",
    "x_train, y_train = training[:, :-1], training[:, -1:]\n",
    "x_valid, y_valid = validation[:, :-1], validation[:, -1:]\n"
   ]
  },
  {
   "cell_type": "code",
   "execution_count": 51,
   "metadata": {},
   "outputs": [],
   "source": [
    "# z-score training data and add bias feature\n",
    "\n",
    "mean = np.mean(x_train, axis=0, keepdims=True)\n",
    "std = np.std(x_train, axis=0, ddof=1, keepdims=True)\n",
    "\n",
    "ztrain = (x_train - mean) / std\n",
    "zvalid = (x_valid - mean) / std\n",
    "\n",
    "ztrain = np.hstack((np.ones((ztrain.shape[0], 1)), ztrain))\n",
    "zvalid = np.hstack((np.ones((zvalid.shape[0], 1)), zvalid))"
   ]
  },
  {
   "cell_type": "code",
   "execution_count": 52,
   "metadata": {},
   "outputs": [],
   "source": [
    "# sigmoid function\n",
    "\n",
    "def sigmoid(z):\n",
    "    return 1 / (1 + np.exp(-z))"
   ]
  },
  {
   "cell_type": "code",
   "execution_count": 53,
   "metadata": {},
   "outputs": [],
   "source": [
    "# log loss function\n",
    "\n",
    "def logLoss(predictions, true_value, epsilon):\n",
    "    return -np.mean(true_value * np.log(predictions + epsilon) + (1 - true_value) * np.log(1 - predictions + epsilon))\n"
   ]
  },
  {
   "cell_type": "code",
   "execution_count": 54,
   "metadata": {},
   "outputs": [],
   "source": [
    "# logistic regression fucntion\n",
    "\n",
    "def logisticRegression(featureTraining, targetTraining, featureValidation, weights, learning_rate, epochs, epsilon):\n",
    "\n",
    "    trainingLogLosses = []\n",
    "    validationLogLosses = []\n",
    "\n",
    "    for i in range(epochs):\n",
    "\n",
    "        # training and validation predicitons\n",
    "        trainingPrediction = sigmoid(featureTraining @ weights) \n",
    "        validationPrediction = sigmoid(featureValidation @ weights)\n",
    "\n",
    "        # calculate gradient and update weights\n",
    "        gradient = (1 / len(featureTraining)) * ((featureTraining.T) @ (trainingPrediction - targetTraining))\n",
    "        weights -= (learning_rate * gradient) \n",
    "        \n",
    "        # calculate log-loss for training and validaiton data\n",
    "        trainingLogLosses.append(logLoss(trainingPrediction, y_train, epsilon))\n",
    "        validationLogLosses.append(logLoss(validationPrediction, y_valid, epsilon))\n",
    "\n",
    "        if i > 0 and (np.abs(trainingLogLosses[-2] - trainingLogLosses[-1]) < epsilon \n",
    "                      or np.abs(validationLogLosses[-2] - validationLogLosses[-1] < epsilon)):\n",
    "            break\n",
    "\n",
    "    return weights, trainingLogLosses, validationLogLosses\n"
   ]
  },
  {
   "cell_type": "code",
   "execution_count": 55,
   "metadata": {},
   "outputs": [],
   "source": [
    "# compute accuracy for both training and validation data\n",
    "\n",
    "def statistics(prediction, true_value):\n",
    "    \n",
    "    truePositive, falsePositive, trueNegative, falseNegative, correct = 0, 0, 0, 0, 0\n",
    "\n",
    "    for i in range(len(prediction)):\n",
    "        if prediction[i] == 1 and true_value[i] == 1:\n",
    "            correct += 1\n",
    "            truePositive += 1\n",
    "\n",
    "        elif prediction[i] == 1 and true_value[i] == 0:\n",
    "            falsePositive += 1\n",
    "\n",
    "        elif prediction[i] == 0 and true_value[i] == 0:\n",
    "            correct += 1\n",
    "            trueNegative += 1\n",
    "\n",
    "        else:\n",
    "            falseNegative += 1\n",
    "\n",
    "    percentage_correct = (correct / len(prediction)) * 100\n",
    "    precision = truePositive / (truePositive + falsePositive)\n",
    "    recall = truePositive / (truePositive + falseNegative)\n",
    "    fmeasure = (2 * precision * recall) / (precision + recall)\n",
    "\n",
    "    return percentage_correct, precision, recall, fmeasure"
   ]
  },
  {
   "cell_type": "code",
   "execution_count": 56,
   "metadata": {},
   "outputs": [],
   "source": [
    "# logistic regression\n",
    "\n",
    "# initialize weights to random numbers in the range of +-10^-4\n",
    "weight = np.random.uniform(-1e-4, 1e-4, (ztrain.shape[1], 1))\n",
    "finalWeight, trainingLogLoss, validLogLoss = logisticRegression(ztrain, y_train, zvalid, weight, 0.1, 30000, 1e-7)"
   ]
  },
  {
   "cell_type": "code",
   "execution_count": 57,
   "metadata": {},
   "outputs": [],
   "source": [
    "# classify training and validation (>=50%)\n",
    "\n",
    "trainingPrediciton = [0 if output < 0.5 else 1 for output in sigmoid(ztrain @ finalWeight)] \n",
    "validationPrediction = [0 if output < 0.5 else 1 for output in sigmoid(zvalid @ finalWeight)]"
   ]
  },
  {
   "cell_type": "code",
   "execution_count": 58,
   "metadata": {},
   "outputs": [
    {
     "name": "stdout",
     "output_type": "stream",
     "text": [
      "Training Accuracy: 92.79661016949152%\n",
      "Validation Accuracy: 93.02022178734506%\n",
      "\n",
      "Validation Precision: 0.9064124783362218\n",
      "Validaiton Recall: 0.9079861111111112\n",
      "Vaidaiton F-Measure: 0.9071986123156983\n"
     ]
    }
   ],
   "source": [
    "# get statistics for training and validaiton data\n",
    "\n",
    "traininingAccuracy, trainingPrecision, trainingRecall, trainingFmeasure = statistics(trainingPrediciton, y_train)\n",
    "validationAccuracy, validationPrecision, validationRecall, validationFmeasure = statistics(validationPrediction, y_valid)\n",
    "\n",
    "print('Training Accuracy: {}%'.format(traininingAccuracy))\n",
    "print('Validation Accuracy: {}%\\n'.format(validationAccuracy))\n",
    "print('Validation Precision: {}'.format(validationPrecision))\n",
    "print('Validaiton Recall: {}'.format(validationRecall))\n",
    "print('Vaidaiton F-Measure: {}'.format(validationFmeasure))"
   ]
  },
  {
   "cell_type": "code",
   "execution_count": 59,
   "metadata": {},
   "outputs": [
    {
     "data": {
      "image/png": "[encoded data removed]",
      "text/plain": [
       "<Figure size 1000x600 with 1 Axes>"
      ]
     },
     "metadata": {},
     "output_type": "display_data"
    }
   ],
   "source": [
    "# plot log-loss\n",
    "\n",
    "epochs_range = range(1, len(trainingLogLoss) + 1)\n",
    "\n",
    "plt.figure(figsize=(10, 6))\n",
    "plt.plot(epochs_range, trainingLogLoss, label='Training', color='blue')\n",
    "plt.plot(epochs_range, validLogLoss, label='Validation', color='orange')\n",
    "plt.xlabel('Epochs')\n",
    "plt.ylabel('Mean Log Loss')\n",
    "plt.legend()\n",
    "plt.show()"
   ]
  },
  {
   "cell_type": "code",
   "execution_count": null,
   "metadata": {},
   "outputs": [],
   "source": []
  }
 ],
 "metadata": {
  "kernelspec": {
   "display_name": "Python 3",
   "language": "python",
   "name": "python3"
  },
  "language_info": {
   "codemirror_mode": {
    "name": "ipython",
    "version": 3
   },
   "file_extension": ".py",
   "mimetype": "text/x-python",
   "name": "python",
   "nbconvert_exporter": "python",
   "pygments_lexer": "ipython3",
   "version": "3.8.1"
  }
 },
 "nbformat": 4,
 "nbformat_minor": 2
}
