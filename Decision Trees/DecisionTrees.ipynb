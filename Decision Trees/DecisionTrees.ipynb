{
 "cells": [
  {
   "cell_type": "code",
   "execution_count": 22,
   "metadata": {},
   "outputs": [],
   "source": [
    "import numpy as np\n",
    "import pandas as pd\n",
    "import matplotlib.pyplot as plt\n",
    "from sklearn.metrics import confusion_matrix\n",
    "import seaborn as sns\n",
    "from PIL import Image\n",
    "import os\n",
    "import re"
   ]
  },
  {
   "cell_type": "code",
   "execution_count": 23,
   "metadata": {},
   "outputs": [
    {
     "data": {
      "text/html": [
       "<div>\n",
       "<style scoped>\n",
       "    .dataframe tbody tr th:only-of-type {\n",
       "        vertical-align: middle;\n",
       "    }\n",
       "\n",
       "    .dataframe tbody tr th {\n",
       "        vertical-align: top;\n",
       "    }\n",
       "\n",
       "    .dataframe thead th {\n",
       "        text-align: right;\n",
       "    }\n",
       "</style>\n",
       "<table border=\"1\" class=\"dataframe\">\n",
       "  <thead>\n",
       "    <tr style=\"text-align: right;\">\n",
       "      <th></th>\n",
       "      <th>LB</th>\n",
       "      <th>AC</th>\n",
       "      <th>FM</th>\n",
       "      <th>UC</th>\n",
       "      <th>ASTV</th>\n",
       "      <th>MSTV</th>\n",
       "      <th>ALTV</th>\n",
       "      <th>MLTV</th>\n",
       "      <th>DL</th>\n",
       "      <th>DS</th>\n",
       "      <th>...</th>\n",
       "      <th>Min</th>\n",
       "      <th>Max</th>\n",
       "      <th>Nmax</th>\n",
       "      <th>Nzeros</th>\n",
       "      <th>Mode</th>\n",
       "      <th>Mean</th>\n",
       "      <th>Median</th>\n",
       "      <th>Variance</th>\n",
       "      <th>Tendency</th>\n",
       "      <th>NSP</th>\n",
       "    </tr>\n",
       "  </thead>\n",
       "  <tbody>\n",
       "    <tr>\n",
       "      <th>0</th>\n",
       "      <td>120</td>\n",
       "      <td>0</td>\n",
       "      <td>0</td>\n",
       "      <td>0</td>\n",
       "      <td>73</td>\n",
       "      <td>0.5</td>\n",
       "      <td>43</td>\n",
       "      <td>2.4</td>\n",
       "      <td>0</td>\n",
       "      <td>0</td>\n",
       "      <td>...</td>\n",
       "      <td>62</td>\n",
       "      <td>126</td>\n",
       "      <td>2</td>\n",
       "      <td>0</td>\n",
       "      <td>120</td>\n",
       "      <td>137</td>\n",
       "      <td>121</td>\n",
       "      <td>73</td>\n",
       "      <td>1</td>\n",
       "      <td>2</td>\n",
       "    </tr>\n",
       "    <tr>\n",
       "      <th>1</th>\n",
       "      <td>132</td>\n",
       "      <td>4</td>\n",
       "      <td>0</td>\n",
       "      <td>4</td>\n",
       "      <td>17</td>\n",
       "      <td>2.1</td>\n",
       "      <td>0</td>\n",
       "      <td>10.4</td>\n",
       "      <td>2</td>\n",
       "      <td>0</td>\n",
       "      <td>...</td>\n",
       "      <td>68</td>\n",
       "      <td>198</td>\n",
       "      <td>6</td>\n",
       "      <td>1</td>\n",
       "      <td>141</td>\n",
       "      <td>136</td>\n",
       "      <td>140</td>\n",
       "      <td>12</td>\n",
       "      <td>0</td>\n",
       "      <td>1</td>\n",
       "    </tr>\n",
       "    <tr>\n",
       "      <th>2</th>\n",
       "      <td>133</td>\n",
       "      <td>2</td>\n",
       "      <td>0</td>\n",
       "      <td>5</td>\n",
       "      <td>16</td>\n",
       "      <td>2.1</td>\n",
       "      <td>0</td>\n",
       "      <td>13.4</td>\n",
       "      <td>2</td>\n",
       "      <td>0</td>\n",
       "      <td>...</td>\n",
       "      <td>68</td>\n",
       "      <td>198</td>\n",
       "      <td>5</td>\n",
       "      <td>1</td>\n",
       "      <td>141</td>\n",
       "      <td>135</td>\n",
       "      <td>138</td>\n",
       "      <td>13</td>\n",
       "      <td>0</td>\n",
       "      <td>1</td>\n",
       "    </tr>\n",
       "    <tr>\n",
       "      <th>3</th>\n",
       "      <td>134</td>\n",
       "      <td>2</td>\n",
       "      <td>0</td>\n",
       "      <td>6</td>\n",
       "      <td>16</td>\n",
       "      <td>2.4</td>\n",
       "      <td>0</td>\n",
       "      <td>23.0</td>\n",
       "      <td>2</td>\n",
       "      <td>0</td>\n",
       "      <td>...</td>\n",
       "      <td>53</td>\n",
       "      <td>170</td>\n",
       "      <td>11</td>\n",
       "      <td>0</td>\n",
       "      <td>137</td>\n",
       "      <td>134</td>\n",
       "      <td>137</td>\n",
       "      <td>13</td>\n",
       "      <td>1</td>\n",
       "      <td>1</td>\n",
       "    </tr>\n",
       "    <tr>\n",
       "      <th>4</th>\n",
       "      <td>132</td>\n",
       "      <td>4</td>\n",
       "      <td>0</td>\n",
       "      <td>5</td>\n",
       "      <td>16</td>\n",
       "      <td>2.4</td>\n",
       "      <td>0</td>\n",
       "      <td>19.9</td>\n",
       "      <td>0</td>\n",
       "      <td>0</td>\n",
       "      <td>...</td>\n",
       "      <td>53</td>\n",
       "      <td>170</td>\n",
       "      <td>9</td>\n",
       "      <td>0</td>\n",
       "      <td>137</td>\n",
       "      <td>136</td>\n",
       "      <td>138</td>\n",
       "      <td>11</td>\n",
       "      <td>1</td>\n",
       "      <td>1</td>\n",
       "    </tr>\n",
       "  </tbody>\n",
       "</table>\n",
       "<p>5 rows × 22 columns</p>\n",
       "</div>"
      ],
      "text/plain": [
       "    LB  AC  FM  UC  ASTV  MSTV  ALTV  MLTV  DL  DS  ...  Min  Max  Nmax  \\\n",
       "0  120   0   0   0    73   0.5    43   2.4   0   0  ...   62  126     2   \n",
       "1  132   4   0   4    17   2.1     0  10.4   2   0  ...   68  198     6   \n",
       "2  133   2   0   5    16   2.1     0  13.4   2   0  ...   68  198     5   \n",
       "3  134   2   0   6    16   2.4     0  23.0   2   0  ...   53  170    11   \n",
       "4  132   4   0   5    16   2.4     0  19.9   0   0  ...   53  170     9   \n",
       "\n",
       "   Nzeros  Mode  Mean  Median  Variance  Tendency  NSP  \n",
       "0       0   120   137     121        73         1    2  \n",
       "1       1   141   136     140        12         0    1  \n",
       "2       1   141   135     138        13         0    1  \n",
       "3       0   137   134     137        13         1    1  \n",
       "4       0   137   136     138        11         1    1  \n",
       "\n",
       "[5 rows x 22 columns]"
      ]
     },
     "execution_count": 23,
     "metadata": {},
     "output_type": "execute_result"
    }
   ],
   "source": [
    "# read in data, drop 'CLASS' column\n",
    "\n",
    "data = pd.read_csv('CTG.csv')\n",
    "data = data.drop(['CLASS'], axis=1)\n",
    "data.head()"
   ]
  },
  {
   "cell_type": "code",
   "execution_count": 24,
   "metadata": {},
   "outputs": [],
   "source": [
    "# randomize data, split into training and validation\n",
    "\n",
    "data_np = data.to_numpy()\n",
    "np.random.seed(0)\n",
    "np.random.shuffle(data_np)\n",
    "\n",
    "trainSplit = int(np.ceil(len(data_np) * (2/3)))\n",
    "training, validation = data_np[:trainSplit], data_np[trainSplit:]\n",
    "x_train, y_train = training[:, :-1], training[:, -1:]\n",
    "x_valid, y_valid = validation[:, :-1], validation[:, -1:]"
   ]
  },
  {
   "cell_type": "code",
   "execution_count": 25,
   "metadata": {},
   "outputs": [],
   "source": [
    "# function to calculate entropy\n",
    "\n",
    "def entropy(data):\n",
    "\tcounts = np.bincount(data).astype(int)\n",
    "\tprobabilities = counts / len(data)\n",
    "\tentropy = -np.sum([p * np.log2(p) for p in probabilities if p > 0])\n",
    "\treturn entropy"
   ]
  },
  {
   "cell_type": "code",
   "execution_count": 26,
   "metadata": {},
   "outputs": [],
   "source": [
    "# function to split branches into left and right\n",
    "\n",
    "def split(x_train, y_train, index, index_val):\n",
    "    true_index = np.where(x_train[:, index] <= index_val)[0]\n",
    "    false_index = np.where(x_train[:, index] > index_val)[0]\n",
    "\n",
    "    true_xtrain, true_ytrain = x_train[true_index], y_train[true_index]\n",
    "    false_xtrain, false_ytrain = x_train[false_index], y_train[false_index]\n",
    "\n",
    "    return true_xtrain, true_ytrain, false_xtrain, false_ytrain"
   ]
  },
  {
   "cell_type": "code",
   "execution_count": 27,
   "metadata": {},
   "outputs": [],
   "source": [
    "# function for decision tree\n",
    "\n",
    "def make_tree(x_train, y_train):\n",
    "    if len(set(y_train)) == 1:\n",
    "        return y_train[0]\n",
    "    \n",
    "    num_features = x_train.shape[1]\n",
    "    information_gain = 0\n",
    "    branches = None\n",
    "    feature_value = None\n",
    "\n",
    "    current_entropy = entropy(y_train)\n",
    "\n",
    "    for index in range(num_features):\n",
    "        features = set(x_train[:, index])\n",
    "        \n",
    "        for index_val in features:\n",
    "            true_xtrain, true_ytrain, false_xtrain, false_ytrain = split(x_train, y_train, index, index_val)\n",
    "            true_entropy = entropy(true_ytrain)\n",
    "            false_entropy = entropy(false_ytrain)\n",
    "            \n",
    "            proportion = len(true_ytrain) / len(y_train)\n",
    "\n",
    "            entropy_loss = current_entropy - proportion * true_entropy - (1 - proportion) * false_entropy\n",
    "\n",
    "            if entropy_loss > information_gain:\n",
    "                information_gain = entropy_loss\n",
    "                feature_value = (index, index_val)\n",
    "                branches = (true_xtrain, true_ytrain, false_xtrain, false_ytrain)\n",
    "\n",
    "    if information_gain > 0:\n",
    "        true_branch = make_tree(branches[0], branches[1])\n",
    "        false_branch = make_tree(branches[2], branches[3])\n",
    "        return {\n",
    "            'feature':       feature_value[0],\n",
    "            'value':         feature_value[1], \n",
    "            'true_branch':   true_branch, \n",
    "            'false_branch':  false_branch }\n",
    "    \n",
    "    return max(set(y_train), key=list(y_train).count)"
   ]
  },
  {
   "cell_type": "code",
   "execution_count": 28,
   "metadata": {},
   "outputs": [],
   "source": [
    "# function to predict values from decision tree\n",
    "\n",
    "def predict(tree, sample):\n",
    "    if not isinstance(tree, dict):\n",
    "        return tree\n",
    "    \n",
    "    feature, value = tree['feature'], tree['value']\n",
    "\n",
    "    if sample[feature] <= value:\n",
    "        return predict(tree['true_branch'], sample)\n",
    "    else:\n",
    "        return predict(tree['false_branch'], sample)"
   ]
  },
  {
   "cell_type": "code",
   "execution_count": 29,
   "metadata": {},
   "outputs": [],
   "source": [
    "# function to get predictions from decision tree\n",
    "\n",
    "def myDT(x_train, y_train, x_valid):\n",
    "    predictions = []\n",
    "    y_train = y_train.ravel().astype(int)\n",
    "    dt = make_tree(x_train, y_train)\n",
    "\n",
    "    for i in range(len(x_valid)):\n",
    "        predictions.append(predict(dt, x_valid[i]))\n",
    "\n",
    "    return predictions"
   ]
  },
  {
   "cell_type": "code",
   "execution_count": 30,
   "metadata": {},
   "outputs": [],
   "source": [
    "# function to calculate accuracy\n",
    "\n",
    "def accuracy(predictions, true_value):\n",
    "\n",
    "    correct = 0\n",
    "\n",
    "    for i in range(len(predictions)):\n",
    "        if predictions[i] == true_value[i]:\n",
    "            correct += 1\n",
    "\n",
    "    percentage_correct = (correct / len(predictions)) * 100\n",
    "\n",
    "    return percentage_correct"
   ]
  },
  {
   "cell_type": "code",
   "execution_count": 31,
   "metadata": {},
   "outputs": [],
   "source": [
    "predictions = myDT(x_train, y_train, x_valid)"
   ]
  },
  {
   "cell_type": "code",
   "execution_count": 32,
   "metadata": {},
   "outputs": [
    {
     "data": {
      "image/png": "[encoded data removed]",
      "text/plain": [
       "<Figure size 640x480 with 2 Axes>"
      ]
     },
     "metadata": {},
     "output_type": "display_data"
    }
   ],
   "source": [
    "cm = confusion_matrix(y_valid, predictions)\n",
    "\n",
    "sns.heatmap(cm,\n",
    "            annot=True,\n",
    "            fmt='g',\n",
    "            xticklabels=[1, 2, 3],\n",
    "            yticklabels=[1, 2, 3])\n",
    "plt.ylabel('Prediction',fontsize=13)\n",
    "plt.xlabel('Actual',fontsize=13)\n",
    "plt.title('Confusion Matrix',fontsize=17)\n",
    "plt.show()"
   ]
  },
  {
   "cell_type": "code",
   "execution_count": 33,
   "metadata": {},
   "outputs": [
    {
     "name": "stdout",
     "output_type": "stream",
     "text": [
      "Validation Accuracy: 92.79661016949152%\n",
      "\n"
     ]
    }
   ],
   "source": [
    "# get accuracy for validation data\n",
    "\n",
    "acc = accuracy(predictions, y_valid)\n",
    "print('Validation Accuracy: {}%\\n'.format(acc))"
   ]
  },
  {
   "cell_type": "code",
   "execution_count": 34,
   "metadata": {},
   "outputs": [
    {
     "name": "stdout",
     "output_type": "stream",
     "text": [
      "Current path: /Users/matthewlucente/Desktop/snr szn/spring/cs383/5 - Decision Trees\n"
     ]
    }
   ],
   "source": [
    "path = os.getcwd() + '/yalefaces'\n",
    "print('Current path: ' + os.getcwd())"
   ]
  },
  {
   "cell_type": "code",
   "execution_count": 35,
   "metadata": {},
   "outputs": [],
   "source": [
    "# (1) Read the list of files\n",
    "\n",
    "files = []\n",
    "\n",
    "for (root, dirs, file) in os.walk(path):\n",
    "    for f in file:\n",
    "        files.append(os.path.join(root, f))"
   ]
  },
  {
   "cell_type": "code",
   "execution_count": 36,
   "metadata": {},
   "outputs": [],
   "source": [
    "# (2) Read image, resize, flatten, concatenate to data matrix\n",
    "\n",
    "rem = os.getcwd() + '/yalefaces/.DS_Store' # i am not sure why there was this file in here... \n",
    "if rem in files:\n",
    "    files.remove(rem)\n",
    "\n",
    "data_matrix = []\n",
    "\n",
    "for i in files:\n",
    "    image = Image.open(i)\n",
    "    resized = image.resize((40,40))\n",
    "    flattened = np.array(resized).flatten()\n",
    "    data_matrix.append(flattened)\n",
    "\n",
    "data_matrix = np.array(data_matrix)"
   ]
  },
  {
   "cell_type": "code",
   "execution_count": 37,
   "metadata": {},
   "outputs": [],
   "source": [
    "# Extract and convert the subject numbers\n",
    "\n",
    "extracted_numbers = []\n",
    "for path in files:\n",
    "    match = re.search(r'subject(\\d+)\\.', path)\n",
    "    if match:\n",
    "        try:\n",
    "            number = int(match.group(1))\n",
    "            extracted_numbers.append(number)\n",
    "        except ValueError:\n",
    "            extracted_numbers.append(None) \n",
    "    else:\n",
    "        extracted_numbers.append(None)\n",
    "\n",
    "target_val = np.array(extracted_numbers).reshape(-1,1)"
   ]
  },
  {
   "cell_type": "code",
   "execution_count": 38,
   "metadata": {},
   "outputs": [
    {
     "data": {
      "text/plain": [
       "(154, 1601)"
      ]
     },
     "execution_count": 38,
     "metadata": {},
     "output_type": "execute_result"
    }
   ],
   "source": [
    "data = np.concatenate((data_matrix, target_val), axis=1)\n",
    "data.shape"
   ]
  },
  {
   "cell_type": "code",
   "execution_count": 39,
   "metadata": {},
   "outputs": [],
   "source": [
    "# randomize data, split into training and validation\n",
    "\n",
    "np.random.seed(0)\n",
    "np.random.shuffle(data)\n",
    "\n",
    "trainSplit = int(np.ceil(len(data) * (2/3)))\n",
    "training, validation = data[:trainSplit], data[trainSplit:]\n",
    "x_train, y_train = training[:, :-1], training[:, -1:]\n",
    "x_valid, y_valid = validation[:, :-1], validation[:, -1:]"
   ]
  },
  {
   "cell_type": "code",
   "execution_count": 40,
   "metadata": {},
   "outputs": [
    {
     "data": {
      "image/png": "[encoded data removed]",
      "text/plain": [
       "<Figure size 640x480 with 2 Axes>"
      ]
     },
     "metadata": {},
     "output_type": "display_data"
    }
   ],
   "source": [
    "# get predictions for the yalefaces dataset and show confusion matrix\n",
    "\n",
    "yale_pred = myDT(x_train, y_train, x_valid)\n",
    "yp = np.atleast_2d(yale_pred).reshape(-1,1)\n",
    "cm = confusion_matrix(y_valid, yp)\n",
    "\n",
    "sns.heatmap(cm,\n",
    "            annot=True,\n",
    "            fmt='g',\n",
    "            xticklabels=[2, 3, 4, 5, 6, 7, 8, 9, 10, 11, 12, 13, 14, 15],\n",
    "            yticklabels=[2, 3, 4, 5, 6, 7, 8, 9, 10, 11, 12, 13, 14, 15])\n",
    "plt.ylabel('Prediction',fontsize=13)\n",
    "plt.xlabel('Actual',fontsize=13)\n",
    "plt.title('Confusion Matrix',fontsize=17)\n",
    "plt.show()"
   ]
  },
  {
   "cell_type": "code",
   "execution_count": 41,
   "metadata": {},
   "outputs": [
    {
     "name": "stdout",
     "output_type": "stream",
     "text": [
      "Validation Accuracy: 58.82352941176471%\n",
      "\n"
     ]
    }
   ],
   "source": [
    "# get accuracy for validation data\n",
    "\n",
    "acc = accuracy(yale_pred, y_valid)\n",
    "print('Validation Accuracy: {}%\\n'.format(acc))"
   ]
  },
  {
   "cell_type": "code",
   "execution_count": null,
   "metadata": {},
   "outputs": [],
   "source": []
  }
 ],
 "metadata": {
  "kernelspec": {
   "display_name": "Python 3",
   "language": "python",
   "name": "python3"
  },
  "language_info": {
   "codemirror_mode": {
    "name": "ipython",
    "version": 3
   },
   "file_extension": ".py",
   "mimetype": "text/x-python",
   "name": "python",
   "nbconvert_exporter": "python",
   "pygments_lexer": "ipython3",
   "version": "3.8.1"
  }
 },
 "nbformat": 4,
 "nbformat_minor": 2
}
